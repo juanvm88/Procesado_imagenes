{
 "cells": [
  {
   "cell_type": "markdown",
   "id": "7c47e1af",
   "metadata": {},
   "source": [
    "# VELOCITY CALCULATION \n",
    "\n",
    "This notebook shows the process to compute correctly the velocity of the spheres in the 2-D vibrating experiment from the DataFrame of the original linked trajectories data of the spheres along the frames of the experiment.\n"
   ]
  },
  {
   "cell_type": "markdown",
   "id": "c8382774",
   "metadata": {},
   "source": [
    "### STEPS TO COMPUTE AND PROCESS DATA\n",
    "1. Load df linked file \n",
    "2. Filtering points within Rlim distance to discard particles near the platform border (requirement: obtain the center of the platform (via houghcircle function) and compute r for each particle) + reindex track ids\n",
    "3. Filtering tracks via savgol\n",
    "4. Compute velocities vx, vy with data from timeframe (2-steps process)\n",
    "5. Calculate v and add to df\n",
    "6. Obtain distribution functions\n",
    "7. Compute Vmean and Kinetic Energy"
   ]
  },
  {
   "cell_type": "markdown",
   "id": "22eda715",
   "metadata": {},
   "source": [
    "### Import libraries"
   ]
  },
  {
   "cell_type": "code",
   "execution_count": 2,
   "id": "ed9cb57c",
   "metadata": {},
   "outputs": [],
   "source": [
    "import numpy as np\n",
    "import pandas as pd\n",
    "import matplotlib.pyplot as plt\n",
    "import pims\n",
    "from pandas import DataFrame, Series  \n",
    "import trackpy as tp\n",
    "from scipy.signal import savgol_filter\n",
    "import math\n",
    "import skimage\n",
    "\n",
    "#interactive graphics\n",
    "%matplotlib widget \n",
    "\n",
    "from mpl_toolkits.axes_grid1 import make_axes_locatable\n",
    "from IPython.display import Image"
   ]
  },
  {
   "cell_type": "markdown",
   "id": "b3fd2aa1",
   "metadata": {},
   "source": [
    "### DEFINE FUNCTIONS"
   ]
  },
  {
   "cell_type": "markdown",
   "id": "a9419122",
   "metadata": {},
   "source": [
    "#### df_filR(rlim1,rlim2,df,frames)\n",
    "\n",
    "The function filters the particles that are within a Rlim distance from the center of the vibrated platform. The output is a DataFrame with these particles.\n",
    "\n",
    "INPUTS:\n",
    "\n",
    "rlim1, rlim2: Values to determine the radius of the circular platform via skimage library function hough_radii.\n",
    "frames: frames from .cine file of the experiment.\n",
    "\n",
    "df: DataFrame with locations of the particles and linked into trajectories\n",
    "\n",
    "OUTPUTS:\n",
    "\n",
    "out: Dataframe with filtered positions "
   ]
  },
  {
   "cell_type": "code",
   "execution_count": null,
   "id": "993922b8",
   "metadata": {},
   "outputs": [],
   "source": [
    "def df_filR(rlim1,rlim2, df, frames):\n",
    "    hough_radii=np.arange(rlim1,rlim2,1);\n",
    "    hough_res=skimage.transform.hough_circle(frames[100],hough_radii);\n",
    "    accums,cx,cy,radii=skimage.transform.hough_circle_peaks(hough_res,hough_radii,total_num_peaks=1);\n",
    "    r=np.sqrt((df.x-cx)**2+(df.y-cy)**2);\n",
    "    # rlim = radii from the detected circle - 17 frames-distance, equivalent to 3.5 sphere diameter\n",
    "    rlim=(radii-17.5);\n",
    "    df['r']=r;\n",
    "    df=df[df.r<rlim[0]];\n",
    "    df.drop('r', axis=1, inplace=True)\n",
    "    \n",
    "    return df"
   ]
  },
  {
   "cell_type": "markdown",
   "id": "6eef8ba4",
   "metadata": {},
   "source": [
    "#### df_filSG(df,window_length)\n",
    "\n",
    "The function filters the particle positions to smooth trajectories and avoid failures in the location process taking into account a window length. The output is a DataFrame with these particles.\n",
    "\n",
    "INPUTS: \n",
    "\n",
    "df: DataFrame with locations of the particles and linked into trajectories\n",
    "\n",
    "window_length: Length of the trajectory that are applied to the filter.\n",
    "\n",
    "OUTPUTS:\n",
    "\n",
    "out: Dataframe with filtered positions "
   ]
  },
  {
   "cell_type": "code",
   "execution_count": 2,
   "id": "9d7a5904",
   "metadata": {},
   "outputs": [],
   "source": [
    "def df_filSG(df, window_length):\n",
    "    #df=df.rename(columns={'particle':'track'})\n",
    "    window_length=window_length;\n",
    "    out = pd.DataFrame()\n",
    "    for trajectory in set(df.track):\n",
    "        sub = df[df.track==trajectory]\n",
    "    \n",
    "        if sub.shape[0] <= window_length+1:\n",
    "        #Para obviar los casos en los que la trayectoria dura menos que la ventana de suavizado\n",
    "            pass\n",
    "        else:\n",
    "            printp(f'Smoothing positions for track: {trajectory : .0f}')\n",
    "            # Savgol filter\n",
    "            sub['x'] = savgol_filter(sub['x'], window_length=window_length, polyorder=3, axis=0)\n",
    "            sub['y'] = savgol_filter(sub['y'], window_length=window_length, polyorder=3, axis=0)          \n",
    "            out=pd.concat([out,sub],ignore_index=True,axis=0)\n",
    "    return out\n",
    "\n",
    "def printp(string):\n",
    "    \"\"\" Modification of print function to do everything on one line \"\"\"\n",
    "    import sys\n",
    "    sys.stdout.write('\\r'+ str(string))\n",
    "    sys.stdout.flush()"
   ]
  },
  {
   "cell_type": "markdown",
   "id": "ffbb3c4b",
   "metadata": {},
   "source": [
    "#### velocity(df) & veltime(df, time)\n",
    "\n",
    "The first function calculates the particle position variation between two consecutive frames.\n",
    "\n",
    "The second function calculates the velocity dividing the position increment by the time increment.\n",
    "\n",
    "INPUTS:\n",
    "\n",
    "df: DataFrame with locations of the particles and linked into trajectories\n",
    "\n",
    "time: Time of each frame\n",
    "\n",
    "OUTPUTS:\n",
    "\n",
    "1. out1: Dataframe with position increments\n",
    "2. out2: Dataframe with velocities vx, vy\n"
   ]
  },
  {
   "cell_type": "code",
   "execution_count": null,
   "id": "43b7cc0b",
   "metadata": {},
   "outputs": [],
   "source": [
    "def velocity(df):\n",
    "    out=pd.DataFrame()\n",
    "    for i in range(ntracks):\n",
    "        sub=df[df.track==i]\n",
    "        vxvy = sub[['x','y']].diff(periods=-1)\n",
    "        sub=sub[:-1]\n",
    "        sub['vx']=vxvy.x\n",
    "        sub['vy']=vxvy.y\n",
    "        out=pd.concat([out,sub],ignore_index=True)\n",
    "        if i%100==0:\n",
    "            print(i)\n",
    "    return out\n",
    "\n",
    "def veltime(df,time):\n",
    "    out=pd.DataFrame()\n",
    "    for j in range(nt):\n",
    "        sub=df[df.frame==j]\n",
    "        vx=sub['vx']/(time[j+1]-time[j])\n",
    "        vy=sub['vy']/(time[j+1]-time[j])\n",
    "        sub['vx']=vx\n",
    "        sub['vy']=vy\n",
    "        out=pd.concat([out,sub],ignore_index=True)\n",
    "        if j%100==0:\n",
    "            print(j)\n",
    "    return out"
   ]
  },
  {
   "cell_type": "markdown",
   "id": "301db9a1",
   "metadata": {},
   "source": [
    "#### datavel (df)\n",
    "\n",
    "The function calculates the module of the velocity for each particle in each frame and add a column to the DataFrame.\n",
    "\n",
    "INPUTS:\n",
    "\n",
    "df: DataFrame with locations of the particles and linked into trajectories\n",
    "\n",
    "OUTPUTS:\n",
    "\n",
    "df: DataFrame with velocity column"
   ]
  },
  {
   "cell_type": "code",
   "execution_count": 1,
   "id": "2e84c43d",
   "metadata": {},
   "outputs": [],
   "source": [
    "def datavel(df):\n",
    "    v=(df.vx**2+df.vy**2)**(0.5);\n",
    "    df['v']=v;\n",
    "    \n",
    "    return df"
   ]
  },
  {
   "cell_type": "markdown",
   "id": "20014f87",
   "metadata": {},
   "source": [
    "#### __tracks_len:__ get list of tracks ids; and no. of tracks\n",
    "\n",
    "INPUT: data frame 'df' with tracks\n",
    "\n",
    "OUTPUT: \n",
    "* lengths: array with lenghts of all tracks\n",
    "* track_list: array with tracks IDs \n",
    "* ntracks: no. of tracks\n",
    "\n",
    "#### __reindex_tracks:__ resets tracks IDs in logical order: 1,2,3...., ntracks\n",
    "\n",
    "INPUT: \n",
    "\n",
    "* df: data frame with tracks\n",
    "* arr: array with tracks list\n",
    "\n",
    "OUTPUT: data frame with 'track' column modified"
   ]
  },
  {
   "cell_type": "code",
   "execution_count": 3,
   "id": "8498a7c3",
   "metadata": {},
   "outputs": [],
   "source": [
    "def tracks_len(df):\n",
    "    track_list = np.unique(df.track.values) # list of current track_listk IDs\n",
    "    ntracks = len(track_list)\n",
    "    lengths = np.array( [len(df[df.track==i]) for i in track_list] ) # length of each track\n",
    "    return track_list, lengths, ntracks\n",
    "\n",
    "\n",
    "def reindex_tracks(df, arr):\n",
    "    # replace tracks IDs with logical order count\n",
    "    ntracks = len(arr)\n",
    "    for i in range(ntracks):\n",
    "        df.loc[df.track == arr[i],'track'] = i\n",
    "    return df"
   ]
  },
  {
   "cell_type": "markdown",
   "id": "67189b00",
   "metadata": {},
   "source": [
    "## 1. LOAD DATA (linked df + frametime)"
   ]
  },
  {
   "cell_type": "code",
   "execution_count": null,
   "id": "c463d1d7",
   "metadata": {},
   "outputs": [],
   "source": [
    "df=pd.read_pickle('/media/juan/DiscoDuro2G/Serie_Densidad_1.8sigma/Data Processed/datalinked_densidad0.00625_f75Hz.pkl')\n",
    "\n",
    "time=np.loadtxt('/media/juan/DiscoDuro2G/Serie_Densidad_1.8sigma/Data Processed/frametime_densidad0.00625_f75Hz.txt')\n",
    "\n",
    "nt = np.max(df.frame.values) # number of frames (assumming there is at least one complete track)\n",
    "\n",
    "df=df.rename(columns={'particle':'track'})"
   ]
  },
  {
   "cell_type": "code",
   "execution_count": null,
   "id": "fe4d70df",
   "metadata": {},
   "outputs": [],
   "source": [
    "track_list, lengths, ntracks = tracks_len(df)\n",
    "#reindex se haría después de filtrar\n",
    "df2=reindex_tracks(df, track_list)"
   ]
  }
 ],
 "metadata": {
  "kernelspec": {
   "display_name": "Python 3 (ipykernel)",
   "language": "python",
   "name": "python3"
  },
  "language_info": {
   "codemirror_mode": {
    "name": "ipython",
    "version": 3
   },
   "file_extension": ".py",
   "mimetype": "text/x-python",
   "name": "python",
   "nbconvert_exporter": "python",
   "pygments_lexer": "ipython3",
   "version": "3.9.7"
  }
 },
 "nbformat": 4,
 "nbformat_minor": 5
}
