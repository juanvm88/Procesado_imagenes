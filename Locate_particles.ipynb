{
 "cells": [
  {
   "cell_type": "markdown",
   "id": "66a3565b",
   "metadata": {},
   "source": [
    "# Locate and link notebook for vibration thin layer experiment"
   ]
  },
  {
   "cell_type": "markdown",
   "id": "7fa99e9b",
   "metadata": {},
   "source": [
    "## A) Locate \n",
    "1) Import and read the .cine movie file from the experiment.\n",
    "\n",
    "2) Create circular masks to focus only on the circular vibrating platform.\n",
    "\n",
    "3) Apply the mask to the frames of the clip.\n",
    "\n",
    "4) Locate all the features (particules) and create a DataFrame with x,y positions for each frame.\n",
    "\n",
    "5) Save the DataFrame into a pickle file.\n",
    "\n"
   ]
  },
  {
   "cell_type": "markdown",
   "id": "bded0da4",
   "metadata": {},
   "source": [
    "### Import the required libraries"
   ]
  },
  {
   "cell_type": "code",
   "execution_count": null,
   "id": "51d6080e",
   "metadata": {},
   "outputs": [],
   "source": [
    "# -*- coding: utf-8 -*-\n",
    "\"\"\"\n",
    "Spyder Editor\n",
    "\n",
    "This is a temporary script file.\n",
    "\"\"\"\n",
    "import matplotlib as mpl\n",
    "import matplotlib.pyplot as plt\n",
    "import numpy as np\n",
    "import pandas as pd\n",
    "from pandas import DataFrame, Series  \n",
    "import pims\n",
    "import trackpy as tp\n",
    "#interactive graphics\n",
    "%matplotlib widget \n",
    "\n",
    "from mpl_toolkits.axes_grid1 import make_axes_locatable\n",
    "from IPython.display import Image"
   ]
  },
  {
   "cell_type": "markdown",
   "id": "24562115",
   "metadata": {},
   "source": [
    "### Create circular masks to focus only on the circular vibrating platform"
   ]
  },
  {
   "cell_type": "code",
   "execution_count": null,
   "id": "b7a06dc6",
   "metadata": {},
   "outputs": [],
   "source": [
    "def createCircularMask(h, w, center=None, radius=None):\n",
    "    \"\"\"\n",
    "    Creates an OpenCV circular mask\n",
    "        \n",
    "    Parameters\n",
    "    ----------\n",
    "    h : int\n",
    "    Height of the image for which the mask is going to be used\n",
    "    w : int\n",
    "    Width of the image for which the mask is going to be used\n",
    "    center : tuple or list, optional\n",
    "    Pair of coordinates for the mask's central point. If not specified uses: [w/2, h/2]\n",
    "    radius : float, optional\n",
    "    Value of the mask radius. If not specified uses max possible value\n",
    "    \n",
    "    Returns\n",
    "    -------\n",
    "    mask : array\n",
    "    Mask for using with the image (array of True/False values)\n",
    "    \"\"\"\n",
    "    \n",
    "    if center is None: # use the middle of the image\n",
    "        center = [int(w/2), int(h/2)]\n",
    "    if radius is None: # use the smallest distance between the center and image walls\n",
    "        radius = min(center[0], center[1], w-center[0], h-center[1])\n",
    "    \n",
    "    Y, X = np.ogrid[:h, :w]\n",
    "    dist_from_center = np.sqrt((X - center[0])**2 + (Y-center[1])**2)\n",
    "    \n",
    "    mask = dist_from_center <= radius\n",
    "    \n",
    "    return mask\n",
    "\n",
    "@pims.pipeline\n",
    "def maskImage(img, mask):\n",
    "    \"\"\" \n",
    "    Masks an input image\n",
    "      \n",
    "    Parameters\n",
    "    ----------\n",
    "    img : array\n",
    "    Input image\n",
    "    mask : array\n",
    "    True/False array with same shape as input image \n",
    "    \n",
    "    Returns\n",
    "    -------\n",
    "    masked_img : array\n",
    "    output masked image\n",
    "        \n",
    "    \"\"\"\n",
    "    masked_img = img.copy()\n",
    "    masked_img[~mask] = 0\n",
    "    \n",
    "    return masked_img"
   ]
  },
  {
   "cell_type": "markdown",
   "id": "a19326d8",
   "metadata": {},
   "source": [
    "### Import and read the .cine movie file from the experiment\n",
    "\n",
    "Open the .cine file with PIMS\n",
    "\n",
    "frames: cine object with all the frames of the movie\n",
    "w, h define the width and height of the frames"
   ]
  },
  {
   "cell_type": "code",
   "execution_count": null,
   "id": "83b41e51",
   "metadata": {},
   "outputs": [],
   "source": [
    "frames=pims.open('/home/juan/Desktop/21549_1_10.cine')\n",
    "w,h=frames[0].shape\n",
    "\n",
    "\n",
    "#plt.imshow(frames[0],cmap='gray')"
   ]
  },
  {
   "cell_type": "markdown",
   "id": "c943165e",
   "metadata": {},
   "source": [
    "### Apply the circular mask to the frames\n",
    "\n",
    "It is required some try-and-check steps to apply rightly the mask to the circular platform.\n",
    "\n",
    "PARAMETERS for the mask: \n",
    "* w, h\n",
    "* center of the frame where the circular mask is applied\n",
    "* radius of the mask"
   ]
  },
  {
   "cell_type": "code",
   "execution_count": null,
   "id": "bfc83cf6",
   "metadata": {},
   "outputs": [],
   "source": [
    "mascara=createCircularMask(w,h,center=(416,399),radius=388);\n",
    "imagen=maskImage(frames, mascara);\n",
    "plt.figure()\n",
    "plt.imshow(imagen[0],cmap='gray')\n",
    "#f=tp.locate(imagen[0],5,minmass=115,separation=4)\n",
    "#plt.figure()\n",
    "#tp.annotate(f,imagen[0])\n",
    "#plt.figure()\n",
    "#plt.plot(f['mass'],'.')"
   ]
  },
  {
   "cell_type": "markdown",
   "id": "3fdbb33e",
   "metadata": {},
   "source": [
    "### Locate the features in each frame\n",
    "\n",
    "Features in each frame are the particles. Every particle have a unique (x,y) position for each frame (time instant).\n",
    "\n",
    "The trackpy library is used to locate the particles. A for-loop is used to apply locate function for the whole frame banch.\n",
    "\n",
    "A DataFrame is generated with columns=('x','y','frame').\n",
    "\n",
    "PARAMETERS required: trackpy.locate(frame[i],size,minmass,separation)\n",
    "\n",
    "* individual frame (frame[i])\n",
    "* feature diamater size in pixels\n",
    "* minimum mass of the features\n",
    "* minimum separation in pixels"
   ]
  },
  {
   "cell_type": "code",
   "execution_count": null,
   "id": "125d71e3",
   "metadata": {},
   "outputs": [],
   "source": [
    "df=pd.DataFrame()\n",
    "for i in range(frames.shape[0]):\n",
    "   if i==0:\n",
    "       f=tp.locate(imagen[i],5,minmass=115,separation=4)\n",
    "       f=f[['x','y','frame']]\n",
    "       df=pd.concat([df,f], ignore_index=True)\n",
    "       \n",
    "       #f.to_csv('dataloc_120Hz_150us_75.csv',mode='a',index=False,header=True,columns=('x','y','frame'))\n",
    "   else:\n",
    "       leng=f.shape[0]\n",
    "       f=tp.locate(imagen[i],5,minmass=115,separation=4)\n",
    "       f=f[['x','y','frame']]\n",
    "       df=pd.concat([df,f], ignore_index=True)\n",
    "       #f.to_csv('dataloc_120Hz_150us_75.csv',mode='a',index=False,header=False,columns=('x','y','frame'))        \n",
    "   if i%100==0:\n",
    "       print(i)"
   ]
  },
  {
   "cell_type": "markdown",
   "id": "7c496310",
   "metadata": {},
   "source": [
    "### Save the DataFrame with all the particles located in all frames\n",
    "\n",
    "A pickle file is used to save the DataFrame to save memory space"
   ]
  },
  {
   "cell_type": "code",
   "execution_count": null,
   "id": "319c5ffd",
   "metadata": {},
   "outputs": [],
   "source": [
    "df.to_pickle('/home/juan/OneDrive/Investigación 2022_Física/Laboratorio/data_viernes.pkl')"
   ]
  },
  {
   "cell_type": "markdown",
   "id": "efd196b0",
   "metadata": {},
   "source": [
    "## B) Linking\n",
    "\n",
    "This part of the notebook link all the particles along the frames and create trajectories for each particle.\n",
    "\n",
    "1) Load DataFrame with the particle (x,y) location for each frame.\n",
    "\n",
    "2) Calculate the number of frames of the movie.\n",
    "\n",
    "3) Define the size of the sub DF to link the particles (this should save RAM and make the process quicker).\n",
    "\n",
    "4) Apply link function from trackpy.\n",
    "\n",
    "5) Save the Dataframe with trajectories for each particle along the frames.\n"
   ]
  },
  {
   "cell_type": "markdown",
   "id": "379f41b5",
   "metadata": {},
   "source": [
    "### Load DataFrame from location\n",
    "If these linking cells will be run without running locate cells, the dataframe of the location have to be loaded and create a dataframe variable"
   ]
  },
  {
   "cell_type": "code",
   "execution_count": null,
   "id": "7d0f1312",
   "metadata": {},
   "outputs": [],
   "source": [
    "df=pd.read_pickle('datalocate_2000fps_150us_75.pkl')"
   ]
  },
  {
   "cell_type": "markdown",
   "id": "5714e60c",
   "metadata": {},
   "source": [
    "### Previous calculations\n",
    "\n",
    "* Extract the number of frames\n",
    "* Define the size of the sub-DF to link particles"
   ]
  },
  {
   "cell_type": "code",
   "execution_count": null,
   "id": "e4a593df",
   "metadata": {},
   "outputs": [],
   "source": [
    "N=6\n",
    "Nframe=np.max(df.frame.values)\n",
    "\n",
    "k=round(Nframe/N)"
   ]
  },
  {
   "cell_type": "markdown",
   "id": "6668c59f",
   "metadata": {},
   "source": [
    "### Apply link function from trackpy\n",
    "\n",
    "tp.link (df,range, memory)"
   ]
  },
  {
   "cell_type": "code",
   "execution_count": null,
   "id": "84ad7891",
   "metadata": {},
   "outputs": [],
   "source": [
    "linked=pd.DataFrame()\n",
    "for i in range(k):\n",
    "    sub=df[df.frame<(i+1)*N]\n",
    "    sub=sub[sub.frame>=i*N]\n",
    "    \n",
    "  \n",
    "#    globals()[f\"linked{i}\"]=tp.link(sub,4,memory=5)\n",
    "    sublinked=tp.link(sub,4,memory=5)\n",
    "    linked=pd.concat([linked,sublinked],ignore_index=True)"
   ]
  },
  {
   "cell_type": "markdown",
   "id": "a6afdabb",
   "metadata": {},
   "source": [
    "### Save the dataframe with trajectories"
   ]
  },
  {
   "cell_type": "code",
   "execution_count": null,
   "id": "0d7e873c",
   "metadata": {},
   "outputs": [],
   "source": [
    "linked.to_pickle('datalinked_2000fps_150us_75.pkl')\n",
    "  \n",
    " #   linked.to_pickle(f'datalink_120HZ_150us_{i}.pkl')"
   ]
  }
 ],
 "metadata": {
  "kernelspec": {
   "display_name": "Python 3 (ipykernel)",
   "language": "python",
   "name": "python3"
  },
  "language_info": {
   "codemirror_mode": {
    "name": "ipython",
    "version": 3
   },
   "file_extension": ".py",
   "mimetype": "text/x-python",
   "name": "python",
   "nbconvert_exporter": "python",
   "pygments_lexer": "ipython3",
   "version": "3.9.7"
  }
 },
 "nbformat": 4,
 "nbformat_minor": 5
}
