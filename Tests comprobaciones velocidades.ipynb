{
 "cells": [
  {
   "cell_type": "markdown",
   "id": "9bbf23a3",
   "metadata": {},
   "source": [
    "# TESTS DE COMPROBACIÓN"
   ]
  },
  {
   "cell_type": "markdown",
   "id": "73acc1e6",
   "metadata": {},
   "source": [
    "- nº de trayectorias en cada frame vs frame\n",
    "- función suavizado para localizar puntos\n",
    "- (v_media)²/<v²> <<< 1\n",
    "- f(v_x) vs v_x // f(v_y) vs v_y \n",
    "\n",
    "                  "
   ]
  },
  {
   "cell_type": "code",
   "execution_count": null,
   "id": "53073309",
   "metadata": {},
   "outputs": [],
   "source": [
    "import numpy as np\n",
    "import pandas as pd\n",
    "import matplotlib.pyplot as plt\n",
    "import pims\n",
    "from pandas import DataFrame, Series  \n",
    "import trackpy as tp\n",
    "\n",
    "#interactive graphics\n",
    "%matplotlib widget \n",
    "\n",
    "from mpl_toolkits.axes_grid1 import make_axes_locatable\n",
    "from IPython.display import Image\n",
    "\n",
    "L= 800 # system size (pixels)"
   ]
  },
  {
   "cell_type": "code",
   "execution_count": null,
   "id": "c892cb86",
   "metadata": {},
   "outputs": [],
   "source": [
    "data = pd.read_pickle('/media/juan/DiscoDuro2G/Serie_Densidad_1.8sigma/Data Processed/datalinked_densidad0.175_f75Hz.pkl')\n",
    "\n",
    "longitud=np.zeros(nt)\n",
    "for i in range(nt):\n",
    "    longitud[i]=len(data[data.frame==i])"
   ]
  },
  {
   "cell_type": "code",
   "execution_count": null,
   "id": "ffb739d1",
   "metadata": {},
   "outputs": [],
   "source": [
    "plt.plot(longitud,'*')"
   ]
  },
  {
   "cell_type": "code",
   "execution_count": null,
   "id": "c4d4b90d",
   "metadata": {},
   "outputs": [],
   "source": []
  },
  {
   "cell_type": "code",
   "execution_count": null,
   "id": "8105fc9f",
   "metadata": {},
   "outputs": [],
   "source": [
    "h, bordes= np.histogram(v2media,bins=100)\n",
    "plt.plot(bordes[:-1],h)"
   ]
  }
 ],
 "metadata": {
  "kernelspec": {
   "display_name": "Python 3 (ipykernel)",
   "language": "python",
   "name": "python3"
  },
  "language_info": {
   "codemirror_mode": {
    "name": "ipython",
    "version": 3
   },
   "file_extension": ".py",
   "mimetype": "text/x-python",
   "name": "python",
   "nbconvert_exporter": "python",
   "pygments_lexer": "ipython3",
   "version": "3.9.7"
  }
 },
 "nbformat": 4,
 "nbformat_minor": 5
}
