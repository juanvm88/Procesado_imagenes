{
 "cells": [
  {
   "cell_type": "markdown",
   "id": "7c47e1af",
   "metadata": {},
   "source": [
    "# VELOCITY CALCULATION \n",
    "\n",
    "This notebook shows the process to compute correctly the velocity of the spheres in the 2-D vibrating experiment from the DataFrame of the original linked trajectories data of the spheres along the frames of the experiment.\n"
   ]
  },
  {
   "cell_type": "markdown",
   "id": "c8382774",
   "metadata": {},
   "source": [
    "### STEPS TO COMPUTE AND PROCESS DATA\n",
    "0. Import libraries and define functions\n",
    "1. Load df linked file \n",
    "2. Filtering points within Rlim distance to discard particles near the platform border (requirement: obtain the center of the platform (via houghcircle function) and compute r for each particle) + reindex track ids\n",
    "3. Filtering tracks via savgol\n",
    "4. Compute velocities vx, vy with data from timeframe (2-steps process)\n",
    "5. Calculate v and add to df\n",
    "6. Obtain distribution functions\n",
    "7. Compute Vmean and Kinetic Energy"
   ]
  },
  {
   "cell_type": "markdown",
   "id": "22eda715",
   "metadata": {},
   "source": [
    "### Import libraries"
   ]
  },
  {
   "cell_type": "code",
   "execution_count": 1,
   "id": "ed9cb57c",
   "metadata": {},
   "outputs": [],
   "source": [
    "import sys\n",
    "import gc\n",
    "import numpy as np\n",
    "import pandas as pd\n",
    "import matplotlib.pyplot as plt\n",
    "import pims\n",
    "from pandas import DataFrame, Series  \n",
    "import trackpy as tp\n",
    "from scipy.signal import savgol_filter\n",
    "import math\n",
    "import skimage\n",
    "import scipy as sp\n",
    "from scipy import stats\n",
    "import matplotlib.ticker as mtick\n",
    "\n",
    "#interactive graphics\n",
    "%matplotlib widget \n",
    "\n",
    "from mpl_toolkits.axes_grid1 import make_axes_locatable\n",
    "from IPython.display import Image"
   ]
  },
  {
   "cell_type": "markdown",
   "id": "b3fd2aa1",
   "metadata": {},
   "source": [
    "### DEFINE FUNCTIONS"
   ]
  },
  {
   "cell_type": "markdown",
   "id": "a9419122",
   "metadata": {},
   "source": [
    "#### df_filR(rlim1,rlim2,df,frames)\n",
    "\n",
    "The function filters the particles that are within a Rlim distance from the center of the vibrated platform. The output is a DataFrame with these particles.\n",
    "\n",
    "INPUTS:\n",
    "\n",
    "rlim1, rlim2: Values to determine the radius of the circular platform via skimage library function hough_radii.\n",
    "\n",
    "frames: frames from .cine file of the experiment.\n",
    "\n",
    "df: DataFrame with locations of the particles and linked into trajectories\n",
    "\n",
    "OUTPUTS:\n",
    "\n",
    "out: Dataframe with filtered positions "
   ]
  },
  {
   "cell_type": "code",
   "execution_count": 19,
   "id": "993922b8",
   "metadata": {},
   "outputs": [],
   "source": [
    "def df_filR(rlim1,rlim2, df, frames):\n",
    "    hough_radii=np.arange(rlim1,rlim2,1);\n",
    "    hough_res=skimage.transform.hough_circle(frames[100],hough_radii);\n",
    "    accums,cx,cy,radii=skimage.transform.hough_circle_peaks(hough_res,hough_radii,total_num_peaks=1);\n",
    "    r=np.sqrt((df.x-cx)**2+(df.y-cy)**2);\n",
    "    # rlim = radii from the detected circle - 17 frames-distance, equivalent to 3.5 sphere diameter\n",
    "    rlim=(radii-17.5);\n",
    "    df['r']=r;\n",
    "    df=df[df.r<rlim[0]];\n",
    "    df.drop('r', axis=1, inplace=True)\n",
    "    \n",
    "    return df"
   ]
  },
  {
   "cell_type": "markdown",
   "id": "6eef8ba4",
   "metadata": {},
   "source": [
    "#### df_filSG(df,window_length)\n",
    "\n",
    "The function filters the particle positions to smooth trajectories and avoid failures in the location process taking into account a window length. The output is a DataFrame with these particles.\n",
    "\n",
    "INPUTS: \n",
    "\n",
    "df: DataFrame with locations of the particles and linked into trajectories\n",
    "\n",
    "window_length: Length of the trajectory that are applied to the filter.\n",
    "\n",
    "OUTPUTS:\n",
    "\n",
    "out: Dataframe with filtered positions "
   ]
  },
  {
   "cell_type": "code",
   "execution_count": 3,
   "id": "9d7a5904",
   "metadata": {},
   "outputs": [],
   "source": [
    "def df_filSG(df, window_length):\n",
    "    #df=df.rename(columns={'particle':'track'})\n",
    "    window_length=window_length;\n",
    "    out = pd.DataFrame()\n",
    "    for trajectory in set(df.track):\n",
    "        sub = df[df.track==trajectory]\n",
    "    \n",
    "        if sub.shape[0] <= window_length+1:\n",
    "        #Para obviar los casos en los que la trayectoria dura menos que la ventana de suavizado\n",
    "            pass\n",
    "        else:\n",
    "            printp(f'Smoothing positions for track: {trajectory : .0f}')\n",
    "            # Savgol filter\n",
    "            sub['x'] = savgol_filter(sub['x'], window_length=window_length, polyorder=3, axis=0)\n",
    "            sub['y'] = savgol_filter(sub['y'], window_length=window_length, polyorder=3, axis=0)          \n",
    "            out=pd.concat([out,sub],ignore_index=True,axis=0)\n",
    "    return out\n",
    "\n",
    "def printp(string):\n",
    "    \"\"\" Modification of print function to do everything on one line \"\"\"\n",
    "    import sys\n",
    "    sys.stdout.write('\\r'+ str(string))\n",
    "    sys.stdout.flush()"
   ]
  },
  {
   "cell_type": "markdown",
   "id": "ffbb3c4b",
   "metadata": {},
   "source": [
    "#### velocity(df) & veltime(df, time)\n",
    "\n",
    "The first function calculates the particle position variation between two consecutive frames.\n",
    "\n",
    "The second function calculates the velocity dividing the position increment by the time increment.\n",
    "\n",
    "INPUTS:\n",
    "\n",
    "df: DataFrame with locations of the particles and linked into trajectories\n",
    "\n",
    "time: Time of each frame\n",
    "\n",
    "OUTPUTS:\n",
    "\n",
    "1. out1: Dataframe with position increments\n",
    "2. out2: Dataframe with velocities vx, vy\n"
   ]
  },
  {
   "cell_type": "code",
   "execution_count": 4,
   "id": "43b7cc0b",
   "metadata": {},
   "outputs": [],
   "source": [
    "def velocity(df):\n",
    "    out=pd.DataFrame()\n",
    "    for i in range(ntracks):\n",
    "        sub=df[df.track==i]\n",
    "        vxvy = sub[['x','y']].diff(periods=-1)\n",
    "        sub=sub[:-1]\n",
    "        sub['vx']=vxvy.x\n",
    "        sub['vy']=vxvy.y\n",
    "        out=pd.concat([out,sub],ignore_index=True)\n",
    "        if i%100==0:\n",
    "            print(i)\n",
    "    return out\n",
    "\n",
    "def veltime(df,time):\n",
    "    out=pd.DataFrame()\n",
    "    for j in range(nt):\n",
    "        sub=df[df.frame==j]\n",
    "        vx=sub['vx']/(time[j+1]-time[j])\n",
    "        vy=sub['vy']/(time[j+1]-time[j])\n",
    "        sub['vx']=vx\n",
    "        sub['vy']=vy\n",
    "        out=pd.concat([out,sub],ignore_index=True)\n",
    "        if j%100==0:\n",
    "            print(j)\n",
    "    return out"
   ]
  },
  {
   "cell_type": "markdown",
   "id": "301db9a1",
   "metadata": {},
   "source": [
    "#### datavel (df)\n",
    "\n",
    "The function calculates the module of the velocity for each particle in each frame and add a column to the DataFrame.\n",
    "\n",
    "INPUTS:\n",
    "\n",
    "df: DataFrame with locations of the particles and linked into trajectories\n",
    "\n",
    "OUTPUTS:\n",
    "\n",
    "df: DataFrame with velocity column"
   ]
  },
  {
   "cell_type": "code",
   "execution_count": 5,
   "id": "2e84c43d",
   "metadata": {},
   "outputs": [],
   "source": [
    "def datavel(df):\n",
    "    v=(df.vx**2+df.vy**2)**(0.5);\n",
    "    df['v']=v;\n",
    "    \n",
    "    return df"
   ]
  },
  {
   "cell_type": "markdown",
   "id": "20014f87",
   "metadata": {},
   "source": [
    "#### __tracks_len:__ get list of tracks ids; and no. of tracks\n",
    "\n",
    "INPUT: data frame 'df' with tracks\n",
    "\n",
    "OUTPUT: \n",
    "* lengths: array with lenghts of all tracks\n",
    "* track_list: array with tracks IDs \n",
    "* ntracks: no. of tracks\n",
    "\n",
    "#### __reindex_tracks:__ resets tracks IDs in logical order: 1,2,3...., ntracks\n",
    "\n",
    "INPUT: \n",
    "\n",
    "* df: data frame with tracks\n",
    "* arr: array with tracks list\n",
    "\n",
    "OUTPUT: data frame with 'track' column modified"
   ]
  },
  {
   "cell_type": "code",
   "execution_count": 2,
   "id": "8498a7c3",
   "metadata": {},
   "outputs": [],
   "source": [
    "def tracks_len(df):\n",
    "    track_list = np.unique(df.track.values) # list of current track_listk IDs\n",
    "    ntracks = len(track_list)\n",
    "    lengths = np.array( [len(df[df.track==i]) for i in track_list] ) # length of each track\n",
    "    return track_list, lengths, ntracks\n",
    "\n",
    "\n",
    "def reindex_tracks(df, arr):\n",
    "    # replace tracks IDs with logical order count\n",
    "    ntracks = len(arr)\n",
    "    for i in range(ntracks):\n",
    "        df.loc[df.track == arr[i],'track'] = i\n",
    "    return df"
   ]
  },
  {
   "cell_type": "markdown",
   "id": "54389dcf",
   "metadata": {},
   "source": [
    "## TEST V MEAN"
   ]
  },
  {
   "cell_type": "markdown",
   "id": "c052a90b",
   "metadata": {},
   "source": [
    "## 1. LOAD DATA (linked df + frametime)"
   ]
  },
  {
   "cell_type": "code",
   "execution_count": 2,
   "id": "dd934fa7",
   "metadata": {},
   "outputs": [
    {
     "ename": "FileNotFoundError",
     "evalue": "[Errno 2] No such file or directory: '/media/juan/DiscoDuro2G/Serie_Densidad_1.8sigma/Data Processed/datalinked_densidad0.375_f75Hz.pkl'",
     "output_type": "error",
     "traceback": [
      "\u001b[0;31m---------------------------------------------------------------------------\u001b[0m",
      "\u001b[0;31mFileNotFoundError\u001b[0m                         Traceback (most recent call last)",
      "Input \u001b[0;32mIn [2]\u001b[0m, in \u001b[0;36m<cell line: 1>\u001b[0;34m()\u001b[0m\n\u001b[0;32m----> 1\u001b[0m df\u001b[38;5;241m=\u001b[39m\u001b[43mpd\u001b[49m\u001b[38;5;241;43m.\u001b[39;49m\u001b[43mread_pickle\u001b[49m\u001b[43m(\u001b[49m\u001b[38;5;124;43m'\u001b[39;49m\u001b[38;5;124;43m/media/juan/DiscoDuro2G/Serie_Densidad_1.8sigma/Data Processed/datalinked_densidad0.375_f75Hz.pkl\u001b[39;49m\u001b[38;5;124;43m'\u001b[39;49m\u001b[43m)\u001b[49m\n\u001b[1;32m      2\u001b[0m \u001b[38;5;66;03m#frames=pims.open('/media/juan/DiscoDuro2G/Serie_Densidad_1.8sigma/densidad0.1_f75Hz.cine')\u001b[39;00m\n\u001b[1;32m      3\u001b[0m \u001b[38;5;66;03m#time=np.loadtxt('/media/juan/DiscoDuro2G/Serie_Densidad_1.8sigma/Data Processed/frametime_densidad0.1_f75Hz.txt')\u001b[39;00m\n\u001b[1;32m      5\u001b[0m nt \u001b[38;5;241m=\u001b[39m np\u001b[38;5;241m.\u001b[39mmax(df\u001b[38;5;241m.\u001b[39mframe\u001b[38;5;241m.\u001b[39mvalues) \u001b[38;5;66;03m# number of frames (assumming there is at least one complete track)\u001b[39;00m\n",
      "File \u001b[0;32m~/anaconda3/lib/python3.9/site-packages/pandas/io/pickle.py:187\u001b[0m, in \u001b[0;36mread_pickle\u001b[0;34m(filepath_or_buffer, compression, storage_options)\u001b[0m\n\u001b[1;32m    124\u001b[0m \u001b[38;5;124;03m\"\"\"\u001b[39;00m\n\u001b[1;32m    125\u001b[0m \u001b[38;5;124;03mLoad pickled pandas object (or any object) from file.\u001b[39;00m\n\u001b[1;32m    126\u001b[0m \n\u001b[0;32m   (...)\u001b[0m\n\u001b[1;32m    184\u001b[0m \u001b[38;5;124;03m4    4    9\u001b[39;00m\n\u001b[1;32m    185\u001b[0m \u001b[38;5;124;03m\"\"\"\u001b[39;00m  \u001b[38;5;66;03m# noqa: E501\u001b[39;00m\n\u001b[1;32m    186\u001b[0m excs_to_catch \u001b[38;5;241m=\u001b[39m (\u001b[38;5;167;01mAttributeError\u001b[39;00m, \u001b[38;5;167;01mImportError\u001b[39;00m, \u001b[38;5;167;01mModuleNotFoundError\u001b[39;00m, \u001b[38;5;167;01mTypeError\u001b[39;00m)\n\u001b[0;32m--> 187\u001b[0m \u001b[38;5;28;01mwith\u001b[39;00m \u001b[43mget_handle\u001b[49m\u001b[43m(\u001b[49m\n\u001b[1;32m    188\u001b[0m \u001b[43m    \u001b[49m\u001b[43mfilepath_or_buffer\u001b[49m\u001b[43m,\u001b[49m\n\u001b[1;32m    189\u001b[0m \u001b[43m    \u001b[49m\u001b[38;5;124;43m\"\u001b[39;49m\u001b[38;5;124;43mrb\u001b[39;49m\u001b[38;5;124;43m\"\u001b[39;49m\u001b[43m,\u001b[49m\n\u001b[1;32m    190\u001b[0m \u001b[43m    \u001b[49m\u001b[43mcompression\u001b[49m\u001b[38;5;241;43m=\u001b[39;49m\u001b[43mcompression\u001b[49m\u001b[43m,\u001b[49m\n\u001b[1;32m    191\u001b[0m \u001b[43m    \u001b[49m\u001b[43mis_text\u001b[49m\u001b[38;5;241;43m=\u001b[39;49m\u001b[38;5;28;43;01mFalse\u001b[39;49;00m\u001b[43m,\u001b[49m\n\u001b[1;32m    192\u001b[0m \u001b[43m    \u001b[49m\u001b[43mstorage_options\u001b[49m\u001b[38;5;241;43m=\u001b[39;49m\u001b[43mstorage_options\u001b[49m\u001b[43m,\u001b[49m\n\u001b[1;32m    193\u001b[0m \u001b[43m\u001b[49m\u001b[43m)\u001b[49m \u001b[38;5;28;01mas\u001b[39;00m handles:\n\u001b[1;32m    194\u001b[0m \n\u001b[1;32m    195\u001b[0m     \u001b[38;5;66;03m# 1) try standard library Pickle\u001b[39;00m\n\u001b[1;32m    196\u001b[0m     \u001b[38;5;66;03m# 2) try pickle_compat (older pandas version) to handle subclass changes\u001b[39;00m\n\u001b[1;32m    197\u001b[0m     \u001b[38;5;66;03m# 3) try pickle_compat with latin-1 encoding upon a UnicodeDecodeError\u001b[39;00m\n\u001b[1;32m    199\u001b[0m     \u001b[38;5;28;01mtry\u001b[39;00m:\n\u001b[1;32m    200\u001b[0m         \u001b[38;5;66;03m# TypeError for Cython complaints about object.__new__ vs Tick.__new__\u001b[39;00m\n\u001b[1;32m    201\u001b[0m         \u001b[38;5;28;01mtry\u001b[39;00m:\n",
      "File \u001b[0;32m~/anaconda3/lib/python3.9/site-packages/pandas/io/common.py:798\u001b[0m, in \u001b[0;36mget_handle\u001b[0;34m(path_or_buf, mode, encoding, compression, memory_map, is_text, errors, storage_options)\u001b[0m\n\u001b[1;32m    789\u001b[0m         handle \u001b[38;5;241m=\u001b[39m \u001b[38;5;28mopen\u001b[39m(\n\u001b[1;32m    790\u001b[0m             handle,\n\u001b[1;32m    791\u001b[0m             ioargs\u001b[38;5;241m.\u001b[39mmode,\n\u001b[0;32m   (...)\u001b[0m\n\u001b[1;32m    794\u001b[0m             newline\u001b[38;5;241m=\u001b[39m\u001b[38;5;124m\"\u001b[39m\u001b[38;5;124m\"\u001b[39m,\n\u001b[1;32m    795\u001b[0m         )\n\u001b[1;32m    796\u001b[0m     \u001b[38;5;28;01melse\u001b[39;00m:\n\u001b[1;32m    797\u001b[0m         \u001b[38;5;66;03m# Binary mode\u001b[39;00m\n\u001b[0;32m--> 798\u001b[0m         handle \u001b[38;5;241m=\u001b[39m \u001b[38;5;28;43mopen\u001b[39;49m\u001b[43m(\u001b[49m\u001b[43mhandle\u001b[49m\u001b[43m,\u001b[49m\u001b[43m \u001b[49m\u001b[43mioargs\u001b[49m\u001b[38;5;241;43m.\u001b[39;49m\u001b[43mmode\u001b[49m\u001b[43m)\u001b[49m\n\u001b[1;32m    799\u001b[0m     handles\u001b[38;5;241m.\u001b[39mappend(handle)\n\u001b[1;32m    801\u001b[0m \u001b[38;5;66;03m# Convert BytesIO or file objects passed with an encoding\u001b[39;00m\n",
      "\u001b[0;31mFileNotFoundError\u001b[0m: [Errno 2] No such file or directory: '/media/juan/DiscoDuro2G/Serie_Densidad_1.8sigma/Data Processed/datalinked_densidad0.375_f75Hz.pkl'"
     ]
    }
   ],
   "source": [
    "df=pd.read_pickle('/media/juan/DiscoDuro2G/Serie_Densidad_1.8sigma/Data Processed/datalinked_densidad0.375_f75Hz.pkl')\n",
    "#frames=pims.open('/media/juan/DiscoDuro2G/Serie_Densidad_1.8sigma/densidad0.1_f75Hz.cine')\n",
    "#time=np.loadtxt('/media/juan/DiscoDuro2G/Serie_Densidad_1.8sigma/Data Processed/frametime_densidad0.1_f75Hz.txt')\n",
    "\n",
    "nt = np.max(df.frame.values) # number of frames (assumming there is at least one complete track)\n",
    "df=df.rename(columns={'particle':'track'})\n",
    "\n",
    "track_list = np.unique(df.track.values) # list of current track_listk IDs\n",
    "ntracks = len(track_list)\n"
   ]
  },
  {
   "cell_type": "code",
   "execution_count": 3,
   "id": "054d7e3a",
   "metadata": {},
   "outputs": [
    {
     "ename": "NameError",
     "evalue": "name 'df' is not defined",
     "output_type": "error",
     "traceback": [
      "\u001b[0;31m---------------------------------------------------------------------------\u001b[0m",
      "\u001b[0;31mNameError\u001b[0m                                 Traceback (most recent call last)",
      "Input \u001b[0;32mIn [3]\u001b[0m, in \u001b[0;36m<cell line: 1>\u001b[0;34m()\u001b[0m\n\u001b[0;32m----> 1\u001b[0m df\u001b[38;5;241m=\u001b[39m \u001b[43mdf\u001b[49m\u001b[38;5;241m.\u001b[39msort_values(by\u001b[38;5;241m=\u001b[39m[\u001b[38;5;124m'\u001b[39m\u001b[38;5;124mtrack\u001b[39m\u001b[38;5;124m'\u001b[39m,\u001b[38;5;124m'\u001b[39m\u001b[38;5;124mframe\u001b[39m\u001b[38;5;124m'\u001b[39m])\u001b[38;5;241m.\u001b[39mreset_index(drop\u001b[38;5;241m=\u001b[39m\u001b[38;5;28;01mTrue\u001b[39;00m)\n",
      "\u001b[0;31mNameError\u001b[0m: name 'df' is not defined"
     ]
    }
   ],
   "source": [
    "df= df.sort_values(by=['track','frame']).reset_index(drop=True)"
   ]
  },
  {
   "cell_type": "markdown",
   "id": "aa3db414",
   "metadata": {},
   "source": [
    "## 2. Compute velocities vx, vy "
   ]
  },
  {
   "cell_type": "code",
   "execution_count": 4,
   "id": "93e3cc0e",
   "metadata": {},
   "outputs": [],
   "source": [
    "vx=np.diff(df.x.values)\n",
    "vy=np.diff(df.y.values)"
   ]
  },
  {
   "cell_type": "code",
   "execution_count": 5,
   "id": "df8707a8",
   "metadata": {},
   "outputs": [],
   "source": [
    "df=df[:-1]"
   ]
  },
  {
   "cell_type": "code",
   "execution_count": 6,
   "id": "6e12e434",
   "metadata": {},
   "outputs": [],
   "source": [
    "df['vx']=vx.tolist()\n",
    "df['vy']=vy.tolist()"
   ]
  },
  {
   "cell_type": "code",
   "execution_count": 7,
   "id": "aef08a7c",
   "metadata": {},
   "outputs": [],
   "source": [
    "ids=df[df.frame==nt].track"
   ]
  },
  {
   "cell_type": "code",
   "execution_count": 8,
   "id": "37e21f01",
   "metadata": {},
   "outputs": [],
   "source": [
    "dfred=df[~df['track'].isin(ids)]"
   ]
  },
  {
   "cell_type": "code",
   "execution_count": 9,
   "id": "791bcb6a",
   "metadata": {},
   "outputs": [],
   "source": [
    "dif=np.diff(dfred.track.values)"
   ]
  },
  {
   "cell_type": "code",
   "execution_count": 10,
   "id": "478f475c",
   "metadata": {},
   "outputs": [],
   "source": [
    "dif=np.append(dif,1)"
   ]
  },
  {
   "cell_type": "code",
   "execution_count": 11,
   "id": "e8a2532b",
   "metadata": {},
   "outputs": [
    {
     "name": "stderr",
     "output_type": "stream",
     "text": [
      "/tmp/ipykernel_204295/644281384.py:1: SettingWithCopyWarning: \n",
      "A value is trying to be set on a copy of a slice from a DataFrame.\n",
      "Try using .loc[row_indexer,col_indexer] = value instead\n",
      "\n",
      "See the caveats in the documentation: https://pandas.pydata.org/pandas-docs/stable/user_guide/indexing.html#returning-a-view-versus-a-copy\n",
      "  dfred['dif']=dif.tolist()\n"
     ]
    }
   ],
   "source": [
    "dfred['dif']=dif.tolist()"
   ]
  },
  {
   "cell_type": "code",
   "execution_count": 12,
   "id": "4dfb8aef",
   "metadata": {},
   "outputs": [],
   "source": [
    "ids_test=dfred[dfred.dif>=1].index"
   ]
  },
  {
   "cell_type": "markdown",
   "id": "faedb69f",
   "metadata": {},
   "source": [
    "Es así como puedo eliminar las filas que tienen valores de V no reales (por el hecho de hacerlo por dif.)"
   ]
  },
  {
   "cell_type": "code",
   "execution_count": 13,
   "id": "d197a9cc",
   "metadata": {},
   "outputs": [],
   "source": [
    "dfred=dfred[~dfred.index.isin(ids_test)]"
   ]
  },
  {
   "cell_type": "code",
   "execution_count": 14,
   "id": "1b8ebe13",
   "metadata": {},
   "outputs": [],
   "source": [
    "dfred=dfred.drop(columns='dif')"
   ]
  },
  {
   "cell_type": "code",
   "execution_count": 15,
   "id": "a920cc21",
   "metadata": {},
   "outputs": [],
   "source": [
    "df=df[df['track'].isin(ids)]"
   ]
  },
  {
   "cell_type": "code",
   "execution_count": 16,
   "id": "fe9754b3",
   "metadata": {},
   "outputs": [],
   "source": [
    "df=df[df.frame<nt]"
   ]
  },
  {
   "cell_type": "code",
   "execution_count": 17,
   "id": "4b2476b6",
   "metadata": {},
   "outputs": [],
   "source": [
    "df=pd.concat([df,dfred],ignore_index=True)"
   ]
  },
  {
   "cell_type": "code",
   "execution_count": 18,
   "id": "84d987fa",
   "metadata": {},
   "outputs": [],
   "source": [
    "df=df.sort_values(by=['track','frame']).reset_index(drop=True)"
   ]
  },
  {
   "cell_type": "code",
   "execution_count": 19,
   "id": "63478f33",
   "metadata": {},
   "outputs": [],
   "source": [
    "df.to_pickle('/media/juan/DiscoDuro2G/Serie_Densidad_1.8sigma/Data Processed/datalinked_proces_npdif_densidad0.125_f75Hz.pkl')"
   ]
  },
  {
   "cell_type": "markdown",
   "id": "e5b657b4",
   "metadata": {},
   "source": [
    "## 3. Calculate v with real times from time_frame"
   ]
  },
  {
   "cell_type": "code",
   "execution_count": 20,
   "id": "0a472962",
   "metadata": {},
   "outputs": [],
   "source": [
    "time=np.loadtxt('/media/juan/DiscoDuro2G/Serie_Densidad_1.8sigma/Data Processed/frametime_densidad0.125_f75Hz.txt')"
   ]
  },
  {
   "cell_type": "code",
   "execution_count": 21,
   "id": "7ce93487",
   "metadata": {},
   "outputs": [],
   "source": [
    "nt = np.max(df.frame.values)"
   ]
  },
  {
   "cell_type": "code",
   "execution_count": null,
   "id": "f693a336",
   "metadata": {},
   "outputs": [
    {
     "name": "stderr",
     "output_type": "stream",
     "text": [
      "/tmp/ipykernel_204295/861430079.py:6: SettingWithCopyWarning: \n",
      "A value is trying to be set on a copy of a slice from a DataFrame.\n",
      "Try using .loc[row_indexer,col_indexer] = value instead\n",
      "\n",
      "See the caveats in the documentation: https://pandas.pydata.org/pandas-docs/stable/user_guide/indexing.html#returning-a-view-versus-a-copy\n",
      "  sub['vx']=vx\n",
      "/tmp/ipykernel_204295/861430079.py:7: SettingWithCopyWarning: \n",
      "A value is trying to be set on a copy of a slice from a DataFrame.\n",
      "Try using .loc[row_indexer,col_indexer] = value instead\n",
      "\n",
      "See the caveats in the documentation: https://pandas.pydata.org/pandas-docs/stable/user_guide/indexing.html#returning-a-view-versus-a-copy\n",
      "  sub['vy']=vy\n"
     ]
    },
    {
     "name": "stdout",
     "output_type": "stream",
     "text": [
      "0\n",
      "100\n",
      "200\n",
      "300\n",
      "400\n",
      "500\n",
      "600\n",
      "700\n",
      "800\n",
      "900\n",
      "1000\n",
      "1100\n",
      "1200\n",
      "1300\n",
      "1400\n",
      "1500\n",
      "1600\n",
      "1700\n",
      "1800\n",
      "1900\n",
      "2000\n",
      "2100\n",
      "2200\n",
      "2300\n",
      "2400\n",
      "2500\n",
      "2600\n",
      "2700\n",
      "2800\n",
      "2900\n",
      "3000\n",
      "3100\n",
      "3200\n",
      "3300\n",
      "3400\n",
      "3500\n",
      "3600\n",
      "3700\n",
      "3800\n",
      "3900\n",
      "4000\n",
      "4100\n",
      "4200\n",
      "4300\n",
      "4400\n",
      "4500\n",
      "4600\n",
      "4700\n",
      "4800\n",
      "4900\n",
      "5000\n",
      "5100\n",
      "5200\n",
      "5300\n",
      "5400\n",
      "5500\n",
      "5600\n",
      "5700\n",
      "5800\n",
      "5900\n",
      "6000\n",
      "6100\n",
      "6200\n",
      "6300\n",
      "6400\n",
      "6500\n",
      "6600\n",
      "6700\n",
      "6800\n",
      "6900\n",
      "7000\n",
      "7100\n",
      "7200\n",
      "7300\n",
      "7400\n",
      "7500\n",
      "7600\n",
      "7700\n",
      "7800\n",
      "7900\n",
      "8000\n",
      "8100\n",
      "8200\n",
      "8300\n",
      "8400\n",
      "8500\n",
      "8600\n",
      "8700\n",
      "8800\n",
      "8900\n",
      "9000\n",
      "9100\n",
      "9200\n",
      "9300\n",
      "9400\n",
      "9500\n",
      "9600\n",
      "9700\n",
      "9800\n",
      "9900\n",
      "10000\n",
      "10100\n",
      "10200\n",
      "10300\n",
      "10400\n",
      "10500\n",
      "10600\n"
     ]
    }
   ],
   "source": [
    "out=pd.DataFrame()\n",
    "for j in range(nt):\n",
    "    sub=df[df.frame==j]\n",
    "    vx=sub['vx']/(time[j+1]-time[j])\n",
    "    vy=sub['vy']/(time[j+1]-time[j])\n",
    "    sub['vx']=vx\n",
    "    sub['vy']=vy\n",
    "    out=pd.concat([out,sub],ignore_index=True)\n",
    "    if j%100==0:\n",
    "        print(j)\n",
    "        \n",
    "\n",
    "df=out"
   ]
  },
  {
   "cell_type": "code",
   "execution_count": null,
   "id": "2ef6e3ce",
   "metadata": {},
   "outputs": [],
   "source": [
    "df.to_pickle('/media/juan/DiscoDuro2G/Serie_Densidad_1.8sigma/Data Processed/datalinked_proces_npdif_time_densidad0.125_f75Hz.pkl')"
   ]
  },
  {
   "cell_type": "markdown",
   "id": "5288e7c9",
   "metadata": {},
   "source": [
    "## 4. Compute kinetic energy  \n",
    "<v²> = <vx²>+<vy²> for each frame"
   ]
  },
  {
   "cell_type": "code",
   "execution_count": null,
   "id": "40ff8eb5",
   "metadata": {},
   "outputs": [],
   "source": [
    "v2x=np.zeros(nt)\n",
    "v2y=np.zeros(nt)\n",
    "\n",
    "for i in range(nt):\n",
    "    v2x[i]=np.mean(df[df.frame==i].vx.values**2)\n",
    "    v2y[i]=np.mean(df[df.frame==i].vy.values**2)\n",
    "    if i%100==0:\n",
    "        print (i)"
   ]
  },
  {
   "cell_type": "code",
   "execution_count": null,
   "id": "1db5b56d",
   "metadata": {},
   "outputs": [],
   "source": [
    "np.savetxt('/media/juan/DiscoDuro2G/Serie_Densidad_1.8sigma/Data Processed/v2x_0.125.txt',v2x)\n",
    "np.savetxt('/media/juan/DiscoDuro2G/Serie_Densidad_1.8sigma/Data Processed/v2y_0.125.txt',v2y)"
   ]
  },
  {
   "cell_type": "code",
   "execution_count": null,
   "id": "334064ac",
   "metadata": {},
   "outputs": [],
   "source": [
    "v=np.sqrt(df['vx']**2+df['vy']**2)"
   ]
  },
  {
   "cell_type": "code",
   "execution_count": null,
   "id": "b8820aed",
   "metadata": {},
   "outputs": [],
   "source": [
    "v2=v2x+v2y"
   ]
  },
  {
   "cell_type": "code",
   "execution_count": null,
   "id": "a736d58d",
   "metadata": {},
   "outputs": [],
   "source": [
    "hx, bordesx= np.histogram(df['vx'].values,bins=200,density=True)\n",
    "hy, bordesy= np.histogram(df['vy'].values,bins=200,density=True)\n",
    "h, bordes= np.histogram(v,bins=200,density=True)"
   ]
  },
  {
   "cell_type": "code",
   "execution_count": null,
   "id": "c8f94286",
   "metadata": {},
   "outputs": [],
   "source": [
    "plt.figure()\n",
    "plt.plot(v2x,'.',c='g',markersize=2)\n",
    "plt.plot(v2y,'.',c='b',markersize=2)\n",
    "#plt.plot(v2[:10000],'.',c='r',markersize=2)\n",
    "plt.xlabel(r'$\\mathrm{frame~no.} (i)$')\n",
    "plt.ylabel(r'$v_i^2$')"
   ]
  },
  {
   "cell_type": "code",
   "execution_count": null,
   "id": "a2b8ea1e",
   "metadata": {},
   "outputs": [],
   "source": [
    "plt.figure()\n",
    "#plt.plot(v2x[:2200],'.',c='g',markersize=2)\n",
    "#plt.plot(v2y[:2200],'.',c='b',markersize=2)\n",
    "plt.plot(v2,'.',c='r',markersize=2)\n",
    "plt.xlabel(r'$\\mathrm{frame~no.} (i)$')\n",
    "plt.ylabel(r'$v_i^2$')"
   ]
  },
  {
   "cell_type": "code",
   "execution_count": null,
   "id": "575d6cea",
   "metadata": {},
   "outputs": [],
   "source": [
    "plt.figure()\n",
    "plt.plot(bordesx[:-1],hx,'.',markersize=2)\n",
    "plt.plot(bordesy[:-1],hy,'.',markersize=2)\n",
    "plt.xlim(-750,750)"
   ]
  },
  {
   "cell_type": "code",
   "execution_count": null,
   "id": "b9a6be67",
   "metadata": {},
   "outputs": [],
   "source": [
    "plt.figure()\n",
    "plt.plot(bordes[:-1],h,'.',markersize=2)\n",
    "plt.xlim(0,1000)"
   ]
  },
  {
   "cell_type": "code",
   "execution_count": null,
   "id": "592e3012",
   "metadata": {},
   "outputs": [],
   "source": [
    "np.sum(h)*(bordes[10]-bordes[9])"
   ]
  },
  {
   "cell_type": "code",
   "execution_count": null,
   "id": "784ec450",
   "metadata": {},
   "outputs": [],
   "source": [
    "np.mean(v2)"
   ]
  },
  {
   "cell_type": "code",
   "execution_count": null,
   "id": "a81c384d",
   "metadata": {},
   "outputs": [],
   "source": []
  }
 ],
 "metadata": {
  "kernelspec": {
   "display_name": "Python 3 (ipykernel)",
   "language": "python",
   "name": "python3"
  },
  "language_info": {
   "codemirror_mode": {
    "name": "ipython",
    "version": 3
   },
   "file_extension": ".py",
   "mimetype": "text/x-python",
   "name": "python",
   "nbconvert_exporter": "python",
   "pygments_lexer": "ipython3",
   "version": "3.9.7"
  }
 },
 "nbformat": 4,
 "nbformat_minor": 5
}
